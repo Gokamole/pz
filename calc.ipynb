{
 "cells": [
  {
   "cell_type": "code",
   "execution_count": 2,
   "metadata": {},
   "outputs": [],
   "source": [
    "def add(a, b): # +\n",
    "    c = (float(a) + float(b))\n",
    "    print (c)\n",
    "    return (c)\n",
    "\n",
    "def myltiply(a, b): # * \n",
    "    c = (float(a) * float(b))\n",
    "    print (c)\n",
    "    return (c)\n",
    "\n",
    "def divide (a, b): # /\n",
    "    c = (float(a) / float(b))\n",
    "    print (c)\n",
    "    return (c)\n",
    "\n",
    "def substract(a, b): # -\n",
    "    c= (float(a) - float(b))\n",
    "    print (c)\n",
    "    return (c)\n",
    "\n",
    "num = input(\"Введите выражение \")\n",
    "if len(num) >= 0:\n",
    "    num1 = num.split()\n",
    "    match num1[1]:\n",
    "        case \"+\":\n",
    "            add(num1[0], num1[2])\n",
    "        case \"-\":\n",
    "            substract(num1[0], num1[2])\n",
    "        case \"*\":\n",
    "            myltiply(num1[0], num1[2])\n",
    "        case \"/\":\n",
    "            divide(num1[0], num1[2])\n",
    "        case \" \":\n",
    "            print (\"Неверное выражение\")\n",
    "else:\n",
    "    match num[1]:\n",
    "        case \"+\":\n",
    "            add(num[0], num[2])\n",
    "        case \"-\":\n",
    "            substract(num[0], num[2])\n",
    "        case \"*\":\n",
    "            myltiply(num[0], num[2])\n",
    "        case \"/\":\n",
    "            divide(num[0], num[2])\n",
    "        case \" \":\n",
    "            print (\"Неверное выражение\")\n"
   ]
  }
 ],
 "metadata": {
  "kernelspec": {
   "display_name": "Python 3",
   "language": "python",
   "name": "python3"
  },
  "language_info": {
   "codemirror_mode": {
    "name": "ipython",
    "version": 3
   },
   "file_extension": ".py",
   "mimetype": "text/x-python",
   "name": "python",
   "nbconvert_exporter": "python",
   "pygments_lexer": "ipython3",
   "version": "3.12.3"
  }
 },
 "nbformat": 4,
 "nbformat_minor": 2
}
