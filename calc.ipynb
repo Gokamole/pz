{
 "cells": [
  {
   "cell_type": "code",
   "execution_count": null,
   "metadata": {},
   "outputs": [
    {
     "name": "stdout",
     "output_type": "stream",
     "text": [
      "18.0\n"
     ]
    }
   ],
   "source": [
    "def add(a,b): # +\n",
    "    c = (float(a) + float(b))\n",
    "    return (c)\n",
    "def myltiply(a, b): # * \n",
    "    c = (float(a) * float(b))\n",
    "    return (c)\n",
    "def divide (a, b): # /\n",
    "    c = (float(a) / float(b))\n",
    "    return (c)\n",
    "def substract(a, b): # -\n",
    "    c= (float(a) - float(b))\n",
    "    return (c)\n",
    "num = input(\"Введите выражение \")\n",
    "if \"-\" in num:\n",
    "    num_list = num.split(\"-\")\n",
    "    res = num_list[0]\n",
    "    for i in range(1,len(num_list)):\n",
    "        num_list[i] = float(num_list[i])\n",
    "        res = substract(res, num_list[i])\n",
    "elif \"+\" in num:\n",
    "    num_list = num.split(\"+\")\n",
    "    res = num_list[0]\n",
    "    for i in range(1,len(num_list)):\n",
    "        num_list[i] = float(num_list[i])\n",
    "        res = add(res, num_list[i])\n",
    "elif \"*\" in num:\n",
    "    num_list = num.split(\"*\")\n",
    "    res = num_list[0]\n",
    "    for i in range(1,len(num_list)):\n",
    "        num_list[i] = float(num_list[i])\n",
    "        res = myltiply(res, num_list[i])\n",
    "elif \"/\" in num:\n",
    "    num_list = num.split(\"/\")\n",
    "    res = num_list[0]\n",
    "    for i in range(1,len(num_list)):\n",
    "        num_list[i] = float(num_list[i])\n",
    "        res = divide(res, num_list[i])\n",
    "print (res) "
   ]
  },
  {
   "cell_type": "code",
   "execution_count": null,
   "metadata": {},
   "outputs": [
    {
     "name": "stdout",
     "output_type": "stream",
     "text": [
      "10.0\n"
     ]
    }
   ],
   "source": [
    "def add(a,b): # +\n",
    "    c = (float(a) + float(b))\n",
    "    return (c)\n",
    "def myltiply(a, b): # * \n",
    "    c = (float(a) * float(b))\n",
    "    return (c)\n",
    "def divide (a, b): # /\n",
    "    c = (float(a) / float(b))\n",
    "    return (c)\n",
    "def substract(a, b): # -\n",
    "    c= (float(a) - float(b))\n",
    "    return (c)\n",
    "num = input(\"Введите выражение \")\n",
    "if \"*\" in num:\n",
    "    num_list = num.split(\" \")\n",
    "    i = num_list.index(\"*\")\n",
    "    res = add(num_list[i-1], num_list[i+1])\n",
    "    \n"
   ]
  }
 ],
 "metadata": {
  "kernelspec": {
   "display_name": "Python 3",
   "language": "python",
   "name": "python3"
  },
  "language_info": {
   "codemirror_mode": {
    "name": "ipython",
    "version": 3
   },
   "file_extension": ".py",
   "mimetype": "text/x-python",
   "name": "python",
   "nbconvert_exporter": "python",
   "pygments_lexer": "ipython3",
   "version": "3.12.3"
  }
 },
 "nbformat": 4,
 "nbformat_minor": 2
}
